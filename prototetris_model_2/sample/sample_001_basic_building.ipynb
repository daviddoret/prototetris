{
 "cells": [
  {
   "cell_type": "heading",
   "metadata": {},
   "level": 1,
   "source": [
    "Sample #001: Basic Building"
   ]
  },
  {
   "cell_type": "heading",
   "metadata": {},
   "level": 2,
   "source": [
    "Import required libraries"
   ]
  },
  {
   "cell_type": "code",
   "execution_count": 1,
   "metadata": {
    "collapsed": true
   },
   "outputs": [],
   "source": [
    "from prototetris_model_2 import *\n",
    "from prototetris_renderer_vtk import *\n",
    "from sympy import Polygon"
   ]
  },
  {
   "cell_type": "heading",
   "metadata": {},
   "level": 2,
   "source": [
    "Build the building"
   ]
  },
  {
   "cell_type": "code",
   "execution_count": 2,
   "metadata": {},
   "outputs": [],
   "source": [
    "g = Ground(\"My land\")\n",
    "g.polygon_base = Polygon((0, 0), (50, -10), (100, 00), (110, 50), (100, 100), (50, 110), (0, 100), (-10, 50), (0, 0))\n",
    "b = Building(\"My house\")\n",
    "b.polygon_base = Polygon((20, 20), (80, 20), (80, 80), (20, 80), (20, 20))\n",
    "fb = Floor(\"Basement\", altitude=20)\n",
    "fb.polygon_base = Polygon((30, 30), (70, 30), (70, 70), (30, 70), (30, 30))\n",
    "f1 = Floor(\"1st floor\", altitude=40)\n",
    "f1.polygon_base = Polygon((30, 30), (70, 30), (70, 70), (30, 70), (30, 30))\n",
    "f2 = Floor(\"2nd floor\", altitude=60)\n",
    "f2.polygon_base = Polygon((30, 30), (70, 30), (70, 70), (30, 70), (30, 30))\n"
   ]
  },
  {
   "cell_type": "heading",
   "metadata": {},
   "level": 2,
   "source": [
    "Convert objects to VTK format and combine everything"
   ]
  },
  {
   "cell_type": "code",
   "execution_count": null,
   "metadata": {},
   "outputs": [],
   "source": [
    "p = []\n",
    "p.append(g.to_vtk_polydata())\n",
    "p.append(b.to_vtk_polydata())\n",
    "p.append(fb.to_vtk_polydata())\n",
    "p.append(f1.to_vtk_polydata())\n",
    "p.append(f2.to_vtk_polydata())\n",
    "p_conso = vtk_combine_polydata(p)\n"
   ]
  },
  {
   "cell_type": "heading",
   "metadata": {},
   "level": 2,
   "source": [
    "Render the result"
   ]
  },
  {
   "cell_type": "code",
   "execution_count": null,
   "metadata": {},
   "outputs": [],
   "source": [
    "vtk_render_cleanpolydata(p_conso)"
   ]
  },
  {
   "cell_type": "code",
   "execution_count": 5,
   "metadata": {},
   "outputs": [],
   "source": []
  },
  {
   "cell_type": "code",
   "execution_count": null,
   "metadata": {},
   "outputs": [],
   "source": []
  }
 ],
 "metadata": {
  "kernelspec": {
   "display_name": "Python 2",
   "language": "python",
   "name": "python2"
  },
  "language_info": {
   "codemirror_mode": {
    "name": "ipython",
    "version": 2
   },
   "file_extension": ".py",
   "mimetype": "text/x-python",
   "name": "python",
   "nbconvert_exporter": "python",
   "pygments_lexer": "ipython2",
   "version": "2.7.6"
  }
 },
 "nbformat": 4,
 "nbformat_minor": 0
}
